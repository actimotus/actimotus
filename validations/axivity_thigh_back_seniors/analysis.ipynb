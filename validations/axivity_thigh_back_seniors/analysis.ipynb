{
 "cells": [
  {
   "cell_type": "markdown",
   "id": "0",
   "metadata": {},
   "source": [
    "Dataset comes originally from https://archive.ics.uci.edu/dataset/780/har70, however a few errors where fixed by authors and up to date dataset can be found here: https://github.com/ntnu-ai-lab/harth-ml-experiments/tree/main/harth"
   ]
  },
  {
   "cell_type": "code",
   "execution_count": null,
   "id": "1",
   "metadata": {},
   "outputs": [],
   "source": [
    "from pathlib import Path\n",
    "import pandas as pd\n",
    "import numpy as np\n",
    "\n",
    "ANNOTATIONS = {\n",
    "    1: 'walking',\n",
    "    3: 'shuffling',\n",
    "    4: 'stairs (ascending)',\n",
    "    5: 'stairs (descending)',\n",
    "    6: 'standing',\n",
    "    7: 'sitting',\n",
    "    8: 'lying',\n",
    "}\n",
    "\n",
    "\n",
    "def prepare_raw(path: Path) -> dict[str, pd.DataFrame]:\n",
    "    df = pd.read_csv(path, engine='pyarrow', index_col='timestamp')\n",
    "    df.index.name = 'datetime'\n",
    "\n",
    "    ground_truth = df['label']\n",
    "    ground_truth.name = 'ground_truth'\n",
    "    ground_truth = ground_truth.groupby(pd.Grouper(freq='1s')).median().dropna().astype(int)\n",
    "    ground_truth = ground_truth.map(ANNOTATIONS).astype('category').dropna().to_frame()\n",
    "\n",
    "    thigh = df[['thigh_x', 'thigh_y', 'thigh_z']].astype(np.float32)\n",
    "    thigh.columns = ['acc_x', 'acc_y', 'acc_z']\n",
    "    thigh['acc_x'] = -thigh['acc_x']  # Invert x-axis to match the expected orientation\n",
    "    thigh['acc_y'] = -thigh['acc_y']  # Invert y-axis to match the expected orientation\n",
    "\n",
    "    back = df[['back_x', 'back_y', 'back_z']].astype(np.float32)\n",
    "    back.columns = ['acc_x', 'acc_y', 'acc_z']\n",
    "    back['acc_x'] = -back['acc_x']  # Invert x-axis to match the expected orientation\n",
    "    back['acc_y'] = -back['acc_y']  # Invert y-axis to match the expected orientation\n",
    "\n",
    "    return {'ground_truth': ground_truth, 'thigh': thigh, 'trunk': back}\n",
    "\n",
    "\n",
    "folder = Path('origin')\n",
    "files = folder.rglob('*.csv')\n",
    "\n",
    "output = Path('data')\n",
    "output.mkdir(exist_ok=True, parents=True)\n",
    "\n",
    "(output / 'ground_truth').mkdir(parents=True, exist_ok=True)\n",
    "(output / 'thigh').mkdir(parents=True, exist_ok=True)\n",
    "(output / 'trunk').mkdir(parents=True, exist_ok=True)\n",
    "\n",
    "for file in files:\n",
    "    id = file.stem\n",
    "    data = prepare_raw(file)\n",
    "\n",
    "    for name, df in data.items():\n",
    "        df.to_parquet(output / name / f'{id}.parquet')"
   ]
  }
 ],
 "metadata": {
  "kernelspec": {
   "display_name": ".venv",
   "language": "python",
   "name": "python3"
  },
  "language_info": {
   "codemirror_mode": {
    "name": "ipython",
    "version": 3
   },
   "file_extension": ".py",
   "mimetype": "text/x-python",
   "name": "python",
   "nbconvert_exporter": "python",
   "pygments_lexer": "ipython3",
   "version": "3.11.11"
  }
 },
 "nbformat": 4,
 "nbformat_minor": 5
}
