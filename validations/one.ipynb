{
 "cells": [
  {
   "cell_type": "code",
   "execution_count": null,
   "id": "0",
   "metadata": {},
   "outputs": [],
   "source": [
    "import pandas as pd\n",
    "from functions import MAP_THIGH, get_confusion_matrix, process_motus, report\n",
    "\n",
    "thigh_adults, _ = process_motus(\n",
    "    'thigh_adults',\n",
    "    vendor='Sens',\n",
    "    map=MAP_THIGH,\n",
    "    trunk_sensor=False,\n",
    "    rotate=True,\n",
    "    orientation=False,\n",
    ")\n",
    "\n",
    "labels = ['lie', 'sit', 'stand', 'shuffle', 'walk', 'stairs', 'run', 'bicycle']\n",
    "\n",
    "\n",
    "thigh_adults = pd.read_parquet('thigh_adults/processed_thigh.parquet')\n",
    "thigh_adults = thigh_adults.loc[thigh_adults['ground_truth'] != 'remove']\n",
    "thigh_adults['dataset'] = 'thigh_adults'\n",
    "\n",
    "laboratory = thigh_adults.loc[thigh_adults['condition'] == 'laboratory'].copy()\n",
    "free_living = thigh_adults.loc[thigh_adults['condition'] == 'free-living'].copy()\n",
    "\n",
    "laboratory_cm = get_confusion_matrix(\n",
    "    true=laboratory['ground_truth'],\n",
    "    pred=laboratory['activity'],\n",
    "    labels=labels,\n",
    "    title='Thigh (Adults, Laboratory)',\n",
    "    color='blues',\n",
    "    hide_xaxis_title=False,\n",
    ")\n",
    "\n",
    "\n",
    "free_living_cm = get_confusion_matrix(\n",
    "    true=free_living['ground_truth'],\n",
    "    pred=free_living['activity'],\n",
    "    labels=labels,\n",
    "    title='Thigh (Adults, Free-living)',\n",
    "    color='greens',\n",
    "    hide_yaxis=True,\n",
    "    hide_xaxis_title=False,\n",
    ")\n",
    "\n",
    "# laboratory_cm.save('thigh_adults_laboratory.png', scale_factor=4)\n",
    "# free_living_cm.save('thigh_adults_free_living.png', scale_factor=4)\n",
    "\n",
    "# laboratory_performance = get_validity_metrics(true=laboratory['ground_truth'], pred=laboratory['activity'])\n",
    "laboratory_performance = report(laboratory, true='ground_truth', pred='activity', labels=labels, subject_id='id')\n",
    "laboratory_performance['dataset'] = 'thigh_adults_laboratory'\n",
    "\n",
    "# free_living_performance = get_validity_metrics(true=free_living['ground_truth'], pred=free_living['activity'])\n",
    "free_living_performance = report(free_living, true='ground_truth', pred='activity', labels=labels, subject_id='id')\n",
    "free_living_performance['dataset'] = 'thigh_adults_free_living'"
   ]
  }
 ],
 "metadata": {
  "kernelspec": {
   "display_name": "acti-motus",
   "language": "python",
   "name": "python3"
  },
  "language_info": {
   "codemirror_mode": {
    "name": "ipython",
    "version": 3
   },
   "file_extension": ".py",
   "mimetype": "text/x-python",
   "name": "python",
   "nbconvert_exporter": "python",
   "pygments_lexer": "ipython3",
   "version": "3.11.13"
  }
 },
 "nbformat": 4,
 "nbformat_minor": 5
}
