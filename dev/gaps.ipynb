{
 "cells": [
  {
   "cell_type": "code",
   "execution_count": null,
   "id": "0",
   "metadata": {},
   "outputs": [],
   "source": [
    "from datetime import timedelta\n",
    "\n",
    "import pandas as pd\n",
    "\n",
    "\n",
    "def gap_splitter(timedelta: pd.Series, duration: str | timedelta) -> pd.Series:\n",
    "    duration = pd.Timedelta(duration)\n",
    "\n",
    "    diff = timedelta > duration\n",
    "    gaps = diff.cumsum()\n",
    "    gaps.name = 'gaps'\n",
    "\n",
    "    return gaps"
   ]
  }
 ],
 "metadata": {
  "kernelspec": {
   "display_name": "acti-motus",
   "language": "python",
   "name": "python3"
  },
  "language_info": {
   "name": "python",
   "version": "3.11.13"
  }
 },
 "nbformat": 4,
 "nbformat_minor": 5
}
