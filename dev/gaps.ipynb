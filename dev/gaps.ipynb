{
 "cells": [
  {
   "cell_type": "code",
   "execution_count": null,
   "id": "0",
   "metadata": {},
   "outputs": [],
   "source": [
    "from datetime import timedelta\n",
    "\n",
    "import pandas as pd\n",
    "\n",
    "from acti_motus import Features, Sens\n",
    "\n",
    "\n",
    "def gap_splitter(timedelta: pd.Series, duration: str | timedelta) -> pd.Series:\n",
    "    duration = pd.Timedelta(duration)\n",
    "\n",
    "    diff = timedelta > duration\n",
    "    gaps = diff.cumsum()\n",
    "    gaps.name = 'gaps'\n",
    "\n",
    "    return gaps\n",
    "\n",
    "\n",
    "system_hz = 30\n",
    "\n",
    "df = Sens().from_bin('../test_data/thigh.bin')\n",
    "sf = Features.get_sampling_frequency(df, round_to_nearest=0.5)"
   ]
  }
 ],
 "metadata": {
  "kernelspec": {
   "display_name": "acti-motus",
   "language": "python",
   "name": "python3"
  },
  "language_info": {
   "codemirror_mode": {
    "name": "ipython",
    "version": 3
   },
   "file_extension": ".py",
   "mimetype": "text/x-python",
   "name": "python",
   "nbconvert_exporter": "python",
   "pygments_lexer": "ipython3",
   "version": "3.11.13"
  }
 },
 "nbformat": 4,
 "nbformat_minor": 5
}
