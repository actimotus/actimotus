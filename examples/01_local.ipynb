{
 "cells": [
  {
   "cell_type": "code",
   "execution_count": null,
   "id": "0",
   "metadata": {},
   "outputs": [],
   "source": [
    "import logging\n",
    "from pathlib import Path\n",
    "\n",
    "from labda.parsers import Sens\n",
    "\n",
    "from acti_motus import Features\n",
    "\n",
    "logging.basicConfig(level=logging.INFO)\n",
    "\n",
    "input = Path('../test_data')\n",
    "output = Path('../temp/features')\n",
    "output.mkdir(parents=True, exist_ok=True)\n",
    "\n",
    "\n",
    "files = {\n",
    "    'thigh': input / 'thigh.bin',\n",
    "    'trunk': input / 'trunk.bin',\n",
    "    'calf': input / 'calf.bin',\n",
    "    'arm': input / 'arm.bin',\n",
    "}\n",
    "\n",
    "\n",
    "for name, file in files.items():\n",
    "    df = Sens().from_file(file)\n",
    "    features = Features().compute(df)\n",
    "    features.to_parquet(output / f'{name}.parquet')"
   ]
  },
  {
   "cell_type": "code",
   "execution_count": null,
   "id": "1",
   "metadata": {},
   "outputs": [],
   "source": [
    "import pandas as pd\n",
    "\n",
    "from acti_motus import Activities\n",
    "\n",
    "# references = {\n",
    "#     'thigh': {\n",
    "#         'value': -0.201,\n",
    "#         'expires': '2024-09-03 12:05:51+00:00',\n",
    "#     },\n",
    "#     'trunk': {\n",
    "#         'value': [1.320, 0.247, -0.038],\n",
    "#         'expires': '2024-09-05 05:05:51+00:00',\n",
    "#     },\n",
    "#     'calibrations': [\n",
    "#         {\n",
    "#             'start': '2024-09-03 08:08:51+00:00',\n",
    "#             'end': '2024-09-03 08:09:11+00:00',\n",
    "#             'ttl': '24h',\n",
    "#         },\n",
    "#         {\n",
    "#             'start': '2024-09-02 10:36:31+00:00',\n",
    "#             'end': '2024-09-02 20:36:51+00:00',\n",
    "#             'ttl': '12h',\n",
    "#         },\n",
    "#         {\n",
    "#             'start': '2024-09-03 15:16:23+00:00',\n",
    "#             'end': '2024-09-03 17:17:03+00:00',\n",
    "#             'ttl': '96h',\n",
    "#         },\n",
    "#     ],\n",
    "# }\n",
    "references = None\n",
    "\n",
    "features = Path('../temp/processed')\n",
    "\n",
    "\n",
    "thigh = pd.read_parquet(output / 'thigh.parquet')\n",
    "trunk = pd.read_parquet(output / 'trunk.parquet')\n",
    "calf = pd.read_parquet(output / 'calf.parquet')\n",
    "arm = pd.read_parquet(output / 'arm.parquet')\n",
    "\n",
    "activities, references = Activities(vendor='Sens').compute(\n",
    "    thigh, trunk=trunk, calf=calf, arm=arm, references=references\n",
    ")"
   ]
  },
  {
   "cell_type": "code",
   "execution_count": null,
   "id": "2",
   "metadata": {},
   "outputs": [],
   "source": [
    "from acti_motus import Exposures\n",
    "\n",
    "exposures = Exposures().compute(activities, activities=True)\n",
    "exposures"
   ]
  }
 ],
 "metadata": {
  "kernelspec": {
   "display_name": "acti-motus",
   "language": "python",
   "name": "python3"
  },
  "language_info": {
   "codemirror_mode": {
    "name": "ipython",
    "version": 3
   },
   "file_extension": ".py",
   "mimetype": "text/x-python",
   "name": "python",
   "nbconvert_exporter": "python",
   "pygments_lexer": "ipython3",
   "version": "3.11.13"
  }
 },
 "nbformat": 4,
 "nbformat_minor": 5
}
