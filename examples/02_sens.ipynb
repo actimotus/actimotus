{
 "cells": [
  {
   "cell_type": "code",
   "execution_count": null,
   "id": "0",
   "metadata": {},
   "outputs": [],
   "source": [
    "from pathlib import Path\n",
    "\n",
    "from labda.parsers import Sens\n",
    "\n",
    "from acti_motus import Features\n",
    "\n",
    "input = Path('../test_data')\n",
    "output = Path('../temp/features')\n",
    "output.mkdir(parents=True, exist_ok=True)\n",
    "\n",
    "files = {\n",
    "    'thigh': input / 'thigh.bin',\n",
    "    'trunk': input / 'trunk.bin',\n",
    "    'calf': input / 'calf.bin',\n",
    "    'arm': input / 'arm.bin',\n",
    "}\n",
    "\n",
    "extractor = Features(chunking=True, calibrate=False)\n",
    "extracted_features = {}\n",
    "\n",
    "for name, file in files.items():\n",
    "    df = Sens().from_file(file)\n",
    "    features = extractor.compute(df)\n",
    "    features = extractor.to_sens(features)\n",
    "    extracted_features[name] = features"
   ]
  },
  {
   "cell_type": "code",
   "execution_count": null,
   "id": "1",
   "metadata": {},
   "outputs": [],
   "source": [
    "import numpy as np\n",
    "\n",
    "from acti_motus import Activities\n",
    "\n",
    "thigh = extracted_features.get('thigh', (None, None, None, None))\n",
    "trunk = extracted_features.get('trunk', (None, None, None, None))\n",
    "calf = extracted_features.get('calf', (None, None, None, None))\n",
    "arm = extracted_features.get('arm', (None, None, None, None))\n",
    "\n",
    "timestamps = np.array([thigh[0], trunk[0], calf[0], arm[0]], dtype=object)\n",
    "\n",
    "thigh = np.column_stack((thigh[1], thigh[2]))\n",
    "trunk = np.column_stack((trunk[1], trunk[2]))\n",
    "calf = np.column_stack((calf[1], calf[2]))\n",
    "arm = np.column_stack((arm[1], arm[2]))\n",
    "\n",
    "data = np.array([thigh, trunk, calf, arm], dtype=object)\n",
    "del thigh, trunk, calf, arm\n",
    "\n",
    "activities = Activities(vendor='Sens', chunks=True).compute_sens(timestamps, data)\n",
    "activities"
   ]
  }
 ],
 "metadata": {
  "kernelspec": {
   "display_name": "acti-motus",
   "language": "python",
   "name": "python3"
  },
  "language_info": {
   "codemirror_mode": {
    "name": "ipython",
    "version": 3
   },
   "file_extension": ".py",
   "mimetype": "text/x-python",
   "name": "python",
   "nbconvert_exporter": "python",
   "pygments_lexer": "ipython3",
   "version": "3.11.13"
  }
 },
 "nbformat": 4,
 "nbformat_minor": 5
}
